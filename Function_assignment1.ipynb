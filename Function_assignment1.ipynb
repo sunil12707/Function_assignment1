{
  "nbformat": 4,
  "nbformat_minor": 0,
  "metadata": {
    "colab": {
      "provenance": []
    },
    "kernelspec": {
      "name": "python3",
      "display_name": "Python 3"
    },
    "language_info": {
      "name": "python"
    }
  },
  "cells": [
    {
      "cell_type": "code",
      "execution_count": null,
      "metadata": {
        "id": "8BJnDNyWeUQf"
      },
      "outputs": [],
      "source": []
    },
    {
      "cell_type": "markdown",
      "source": [
        "**Q1. Which keyword is used to create a function? Create a function to return a list of odd numbers in the range of 1 to 25.**"
      ],
      "metadata": {
        "id": "efy6su4jeX6r"
      }
    },
    {
      "cell_type": "code",
      "source": [
        "# Keyword used to create a function: def\n",
        "# Function to return a list of odd numbers in the range of 1 to 25\n",
        "def odd_numbers():\n",
        "    return [num for num in range(1, 26) if num % 2 != 0]\n",
        "\n",
        "# Calling the function\n",
        "print(odd_numbers())\n"
      ],
      "metadata": {
        "id": "f2gd6P4OeVKl"
      },
      "execution_count": null,
      "outputs": []
    },
    {
      "cell_type": "markdown",
      "source": [
        "**Q2. Why *args and **kwargs is used in some functions? Create a function each for *args and **kwargs to demonstrate their use.**"
      ],
      "metadata": {
        "id": "K2lWuAaeegix"
      }
    },
    {
      "cell_type": "code",
      "source": [
        "# *args and **kwargs are used in functions to accept a variable number of arguments and keyword arguments respectively.\n",
        "\n",
        "# Function to demonstrate *args\n",
        "def example_args(*args):\n",
        "    for arg in args:\n",
        "        print(arg)\n",
        "\n",
        "# Function to demonstrate **kwargs\n",
        "def example_kwargs(**kwargs):\n",
        "    for key, value in kwargs.items():\n",
        "        print(f\"{key}: {value}\")\n",
        "\n",
        "# Calling the functions\n",
        "example_args(1, 2, 3, 4)\n",
        "example_kwargs(name=\"John\", age=25)\n"
      ],
      "metadata": {
        "id": "tyNtSWWPeVNr"
      },
      "execution_count": null,
      "outputs": []
    },
    {
      "cell_type": "markdown",
      "source": [
        "**Q3. What is an iterator in Python? Name the method used to initialise the iterator object and the method used for iteration. Use these methods to print the first five elements of the given list [2, 4, 6, 8, 10, 12, 14, 16, 18, 20].**"
      ],
      "metadata": {
        "id": "ccy1re6Wep0a"
      }
    },
    {
      "cell_type": "code",
      "source": [
        "# An iterator in Python is an object that can be iterated upon.\n",
        "# The method used to initialize the iterator object is iter() and the method used for iteration is next().\n",
        "\n",
        "# Printing the first five elements of the given list\n",
        "iterable_list = [2, 4, 6, 8, 10, 12, 14, 16, 18, 20]\n",
        "iterator_obj = iter(iterable_list)\n",
        "for _ in range(5):\n",
        "    print(next(iterator_obj))\n"
      ],
      "metadata": {
        "id": "zp6TeaZgeVQj"
      },
      "execution_count": null,
      "outputs": []
    },
    {
      "cell_type": "markdown",
      "source": [
        "**Q4. What is a generator function in Python? Why yield keyword is used? Give an example of a generator function.**"
      ],
      "metadata": {
        "id": "TE1-LD0cey0s"
      }
    },
    {
      "cell_type": "code",
      "source": [
        "# A generator function is a function that returns an iterator, but unlike regular functions, the local variables are retained between calls.\n",
        "# The yield keyword is used to return data from the generator function and suspend its execution.\n",
        "\n",
        "# Example of a generator function\n",
        "def square_numbers(n):\n",
        "    for i in range(n):\n",
        "        yield i ** 2\n",
        "\n",
        "# Using the generator function\n",
        "generator = square_numbers(5)\n",
        "for num in generator:\n",
        "    print(num)\n"
      ],
      "metadata": {
        "id": "EVGR9qZXeVUF"
      },
      "execution_count": null,
      "outputs": []
    },
    {
      "cell_type": "markdown",
      "source": [
        "**Q5. Create a generator function for prime numbers less than 1000. Use the next() method to print the first 20 prime numbers.**"
      ],
      "metadata": {
        "id": "zBi8a0lQe8Po"
      }
    },
    {
      "cell_type": "code",
      "source": [
        "# Creating a generator function for prime numbers less than 1000\n",
        "def prime_generator():\n",
        "    num = 2\n",
        "    while True:\n",
        "        if all(num % i != 0 for i in range(2, int(num ** 0.5) + 1)):\n",
        "            yield num\n",
        "        num += 1\n",
        "\n",
        "# Using the generator function to print the first 20 prime numbers\n",
        "prime_gen = prime_generator()\n",
        "for _ in range(20):\n",
        "    print(next(prime_gen))"
      ],
      "metadata": {
        "id": "b7Dakfp7fCJM"
      },
      "execution_count": null,
      "outputs": []
    },
    {
      "cell_type": "markdown",
      "source": [
        "**Q6. Write a python program to print the first 10 Fibonacci numbers using a while loop.**"
      ],
      "metadata": {
        "id": "xUEOgkfkfGAH"
      }
    },
    {
      "cell_type": "code",
      "source": [
        "# Printing the first 10 Fibonacci numbers using a while loop\n",
        "a, b = 0, 1\n",
        "fibonacci_numbers = []\n",
        "while len(fibonacci_numbers) < 10:\n",
        "    fibonacci_numbers.append(a)\n",
        "    a, b = b, a + b\n",
        "print(fibonacci_numbers)\n"
      ],
      "metadata": {
        "id": "WeA5SX5-fCQE"
      },
      "execution_count": null,
      "outputs": []
    },
    {
      "cell_type": "markdown",
      "source": [
        "**Q7. Write a List Comprehension to iterate through the given string: ‘pwskills’. Expected output: ['p', 'w', 's', 'k', 'i', 'l', 'l', 's']**"
      ],
      "metadata": {
        "id": "4Ji7EwBtfMiV"
      }
    },
    {
      "cell_type": "code",
      "source": [
        "# List Comprehension to iterate through the given string 'pwskills'\n",
        "string = 'pwskills'\n",
        "result = [char for char in string]\n",
        "print(result)\n"
      ],
      "metadata": {
        "id": "lb69G5OIfCTh"
      },
      "execution_count": null,
      "outputs": []
    },
    {
      "cell_type": "markdown",
      "source": [
        "**Q8. Write a python program to check whether a given number is Palindrome or not using a while loop.**"
      ],
      "metadata": {
        "id": "Qbxnm9nRfZ60"
      }
    },
    {
      "cell_type": "code",
      "source": [
        "# Checking whether a given number is Palindrome or not using a while loop\n",
        "num = int(input(\"Enter a number: \"))\n",
        "temp = num\n",
        "reverse = 0\n",
        "while temp != 0:\n",
        "    remainder = temp % 10\n",
        "    reverse = reverse * 10 + remainder\n",
        "    temp //= 10\n",
        "if num == reverse:\n",
        "    print(\"Palindrome\")\n",
        "else:\n",
        "    print(\"Not a Palindrome\")\n"
      ],
      "metadata": {
        "id": "r8X9BKmZfexH"
      },
      "execution_count": null,
      "outputs": []
    },
    {
      "cell_type": "markdown",
      "source": [
        "**Q9. Write a code to print odd numbers from 1 to 100 using list comprehension.**"
      ],
      "metadata": {
        "id": "3C-qtW8efhhz"
      }
    },
    {
      "cell_type": "code",
      "source": [
        "# Printing odd numbers from 1 to 100 using list comprehension\n",
        "odd_numbers = [num for num in range(1, 101) if num % 2 != 0]\n",
        "print(odd_numbers)\n"
      ],
      "metadata": {
        "id": "lkIaVH7lfe0t"
      },
      "execution_count": null,
      "outputs": []
    }
  ]
}